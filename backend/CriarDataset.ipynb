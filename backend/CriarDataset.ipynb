{
  "cells": [
    {
      "cell_type": "code",
      "execution_count": 1,
      "metadata": {
        "colab": {
          "base_uri": "https://localhost:8080/"
        },
        "id": "Y7dYsqK6XlHa",
        "outputId": "be77d654-2dcd-4027-a5f1-3f45103dcbea"
      },
      "outputs": [
        {
          "name": "stdout",
          "output_type": "stream",
          "text": [
            "Collecting groq\n",
            "  Downloading groq-0.9.0-py3-none-any.whl (103 kB)\n",
            "\u001b[2K     \u001b[90m━━━━━━━━━━━━━━━━━━━━━━━━━━━━━━━━━━━━━━━━\u001b[0m \u001b[32m103.5/103.5 kB\u001b[0m \u001b[31m1.5 MB/s\u001b[0m eta \u001b[36m0:00:00\u001b[0m\n",
            "\u001b[?25hRequirement already satisfied: anyio<5,>=3.5.0 in /usr/local/lib/python3.10/dist-packages (from groq) (3.7.1)\n",
            "Requirement already satisfied: distro<2,>=1.7.0 in /usr/lib/python3/dist-packages (from groq) (1.7.0)\n",
            "Collecting httpx<1,>=0.23.0 (from groq)\n",
            "  Downloading httpx-0.27.0-py3-none-any.whl (75 kB)\n",
            "\u001b[2K     \u001b[90m━━━━━━━━━━━━━━━━━━━━━━━━━━━━━━━━━━━━━━━━\u001b[0m \u001b[32m75.6/75.6 kB\u001b[0m \u001b[31m4.1 MB/s\u001b[0m eta \u001b[36m0:00:00\u001b[0m\n",
            "\u001b[?25hRequirement already satisfied: pydantic<3,>=1.9.0 in /usr/local/lib/python3.10/dist-packages (from groq) (2.8.0)\n",
            "Requirement already satisfied: sniffio in /usr/local/lib/python3.10/dist-packages (from groq) (1.3.1)\n",
            "Requirement already satisfied: typing-extensions<5,>=4.7 in /usr/local/lib/python3.10/dist-packages (from groq) (4.12.2)\n",
            "Requirement already satisfied: idna>=2.8 in /usr/local/lib/python3.10/dist-packages (from anyio<5,>=3.5.0->groq) (3.7)\n",
            "Requirement already satisfied: exceptiongroup in /usr/local/lib/python3.10/dist-packages (from anyio<5,>=3.5.0->groq) (1.2.1)\n",
            "Requirement already satisfied: certifi in /usr/local/lib/python3.10/dist-packages (from httpx<1,>=0.23.0->groq) (2024.6.2)\n",
            "Collecting httpcore==1.* (from httpx<1,>=0.23.0->groq)\n",
            "  Downloading httpcore-1.0.5-py3-none-any.whl (77 kB)\n",
            "\u001b[2K     \u001b[90m━━━━━━━━━━━━━━━━━━━━━━━━━━━━━━━━━━━━━━━━\u001b[0m \u001b[32m77.9/77.9 kB\u001b[0m \u001b[31m3.8 MB/s\u001b[0m eta \u001b[36m0:00:00\u001b[0m\n",
            "\u001b[?25hCollecting h11<0.15,>=0.13 (from httpcore==1.*->httpx<1,>=0.23.0->groq)\n",
            "  Downloading h11-0.14.0-py3-none-any.whl (58 kB)\n",
            "\u001b[2K     \u001b[90m━━━━━━━━━━━━━━━━━━━━━━━━━━━━━━━━━━━━━━━━\u001b[0m \u001b[32m58.3/58.3 kB\u001b[0m \u001b[31m3.3 MB/s\u001b[0m eta \u001b[36m0:00:00\u001b[0m\n",
            "\u001b[?25hRequirement already satisfied: annotated-types>=0.4.0 in /usr/local/lib/python3.10/dist-packages (from pydantic<3,>=1.9.0->groq) (0.7.0)\n",
            "Requirement already satisfied: pydantic-core==2.20.0 in /usr/local/lib/python3.10/dist-packages (from pydantic<3,>=1.9.0->groq) (2.20.0)\n",
            "Installing collected packages: h11, httpcore, httpx, groq\n",
            "Successfully installed groq-0.9.0 h11-0.14.0 httpcore-1.0.5 httpx-0.27.0\n",
            "Collecting unidecode\n",
            "  Downloading Unidecode-1.3.8-py3-none-any.whl (235 kB)\n",
            "\u001b[2K     \u001b[90m━━━━━━━━━━━━━━━━━━━━━━━━━━━━━━━━━━━━━━━━\u001b[0m \u001b[32m235.5/235.5 kB\u001b[0m \u001b[31m3.5 MB/s\u001b[0m eta \u001b[36m0:00:00\u001b[0m\n",
            "\u001b[?25hInstalling collected packages: unidecode\n",
            "Successfully installed unidecode-1.3.8\n"
          ]
        }
      ],
      "source": [
        "!pip install groq\n",
        "!pip install unidecode"
      ]
    },
    {
      "cell_type": "code",
      "execution_count": 28,
      "metadata": {
        "colab": {
          "base_uri": "https://localhost:8080/"
        },
        "id": "JvzqPZB2Xp3u",
        "outputId": "bfb9e8e1-b4d3-4176-ec4e-d1f4572e6eda"
      },
      "outputs": [
        {
          "name": "stdout",
          "output_type": "stream",
          "text": [
            "Drive already mounted at /content/drive; to attempt to forcibly remount, call drive.mount(\"/content/drive\", force_remount=True).\n"
          ]
        }
      ],
      "source": [
        "import re\n",
        "import json\n",
        "\n",
        "import groq\n",
        "from groq import Groq\n",
        "from google.colab import userdata\n",
        "import unidecode\n",
        "from tqdm import tqdm\n",
        "\n",
        "from google.colab import userdata, drive\n",
        "drive.mount('/content/drive')"
      ]
    },
    {
      "cell_type": "code",
      "execution_count": 3,
      "metadata": {
        "id": "awl2GhtCX5rR"
      },
      "outputs": [],
      "source": [
        "client = Groq(api_key=userdata.get('groq.key'))\n",
        "def send_message(message):\n",
        "    '''\n",
        "    Dada uma mensagem, manda pelo groq para o llama3-70b-8192 e retorna a resposta do LLM.\n",
        "\n",
        "    Input: message (str): A mensagem a ser enviada ao LLM.\n",
        "\n",
        "    Observações: Note que para minimizar as incertezas do processo e buscando maximizar a qualidade da resposta,\n",
        "    estamos usando a temperatura 0 e top_p 1.\n",
        "\n",
        "    Output: Uma string contendo a saída do Llama3\n",
        "    '''\n",
        "    chat_completion = client.chat.completions.create(\n",
        "        messages=[{\"role\": \"user\", \"content\": message}],\n",
        "        model='llama3-70b-8192',\n",
        "        temperature = 0,\n",
        "        top_p = 1\n",
        "    )\n",
        "    return chat_completion.choices[0].message.content"
      ]
    },
    {
      "cell_type": "code",
      "execution_count": 4,
      "metadata": {
        "id": "wS1D9bkIX7WL"
      },
      "outputs": [],
      "source": [
        "first_query = send_message('''\n",
        "\n",
        "Escreva as 100 possíveis pesquisas mais frequentes no Google sobre o direito no Brasil, uma por linha.\n",
        "\n",
        "Seguem alguns exemplos já obtidos no site para referência:\n",
        "\n",
        "1. Direito do trabalho\n",
        "2. Como consultar processo\n",
        "3. Porque meu nome esta no diario oficial\n",
        "4. Justiça gratuita servidor publico\n",
        "''')"
      ]
    },
    {
      "cell_type": "code",
      "execution_count": 5,
      "metadata": {
        "id": "Z3w2HHp-gn2w"
      },
      "outputs": [],
      "source": [
        "base = {'buscas': re.findall(r'\\d+\\. (.*)',first_query)}"
      ]
    },
    {
      "cell_type": "code",
      "execution_count": 36,
      "metadata": {
        "id": "788k9raZsjIz"
      },
      "outputs": [],
      "source": [
        "first_clean = list(map(lambda x: unidecode.unidecode(x), re.findall(r'\\d+\\. (.*)',first_query)))\n",
        "base = {'buscas': first_clean}"
      ]
    },
    {
      "cell_type": "markdown",
      "metadata": {
        "id": "aHW2EqNmMBs_"
      },
      "source": [
        "##Adiciona termos relevantes do direito e pesquisas possíveis"
      ]
    },
    {
      "cell_type": "code",
      "execution_count": 10,
      "metadata": {
        "id": "eVG2npFFKD_2"
      },
      "outputs": [],
      "source": [
        "second_query = send_message('''\n",
        "Escreva 100 termos da área de direito, um por linha.\n",
        "''')"
      ]
    },
    {
      "cell_type": "code",
      "execution_count": 37,
      "metadata": {
        "id": "EZzuOdgvKYfe"
      },
      "outputs": [],
      "source": [
        "term_list = re.findall(r'\\d+\\. (.*)', second_query)\n",
        "base['buscas'] += ([unidecode.unidecode(term) for term in term_list])"
      ]
    },
    {
      "cell_type": "code",
      "execution_count": 23,
      "metadata": {
        "id": "dODYDMSIKz4h"
      },
      "outputs": [],
      "source": [
        "def query_term(term):\n",
        "  queries = send_message('Você é um estudante de direito estudando, você quer estudar mais sobre o termo: \"{term}\". Cite 3 consultas no Google que você faria, em sequência, enumeradas e uma por linha. Cada consulta deve ter ao máximo 5 palavras'.format(term=term))\n",
        "  return re.findall(r'\\d+\\. (.*)', queries)"
      ]
    },
    {
      "cell_type": "code",
      "execution_count": 29,
      "metadata": {
        "colab": {
          "base_uri": "https://localhost:8080/"
        },
        "id": "Jen-OmYqKsve",
        "outputId": "95ede992-0cc4-4922-9688-20ffbd62cf5a"
      },
      "outputs": [
        {
          "name": "stderr",
          "output_type": "stream",
          "text": [
            "100%|██████████| 100/100 [03:00<00:00,  1.81s/it]\n"
          ]
        }
      ],
      "source": [
        "queries = []\n",
        "for term in tqdm(term_list):\n",
        "  queries += [unidecode.unidecode(query) for query in query_term(term)]"
      ]
    },
    {
      "cell_type": "code",
      "execution_count": 39,
      "metadata": {
        "id": "YeOTgb26NMkR"
      },
      "outputs": [],
      "source": [
        "base['buscas'] += queries"
      ]
    },
    {
      "cell_type": "code",
      "execution_count": 41,
      "metadata": {
        "id": "XIdVi-4lhvhD"
      },
      "outputs": [],
      "source": [
        "with open('data/buscas.json', 'w') as jsonfile:\n",
        "  json.dump(base, jsonfile)"
      ]
    }
  ],
  "metadata": {
    "colab": {
      "provenance": []
    },
    "kernelspec": {
      "display_name": "Python 3",
      "name": "python3"
    },
    "language_info": {
      "name": "python"
    }
  },
  "nbformat": 4,
  "nbformat_minor": 0
}
